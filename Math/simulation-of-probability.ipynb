{
 "metadata": {
  "language_info": {
   "codemirror_mode": {
    "name": "ipython",
    "version": 3
   },
   "file_extension": ".py",
   "mimetype": "text/x-python",
   "name": "python",
   "nbconvert_exporter": "python",
   "pygments_lexer": "ipython3",
   "version": "3.8.5-final"
  },
  "orig_nbformat": 2,
  "kernelspec": {
   "name": "python3",
   "display_name": "Python 3.8.5 64-bit (conda)",
   "metadata": {
    "interpreter": {
     "hash": "b3ba2566441a7c06988d0923437866b63cedc61552a5af99d1f4fb67d367b25f"
    }
   }
  }
 },
 "nbformat": 4,
 "nbformat_minor": 2,
 "cells": [
  {
   "source": [
    "<h1>Problem Defination</h1>\n",
    "<div> <img src=\"./problem.jpg\" width=\"300\"/> </div>"
   ],
   "cell_type": "markdown",
   "metadata": {}
  },
  {
   "source": [
    "# Mathematical Solution\n",
    "## With Basic Observation\n",
    "We have 4 possibilities to consider, $\\{H_{real},T_{real},H_{fake},H_{fake}\\}$\n",
    "We are given that we have Haeds, so the possibilities reduces to, $\\{H_{real},H_{fake},H_{fake}\\}$\n",
    "Its now clear that 2 of three heads are from fake. So, $\\frac{2}{3} \\approx 0.667$ is the answer.\n",
    "## With Bayes Theorem\n",
    "\n",
    "$P(Fake | Head) = \\frac{P(Head | Fake) P(Fake)}{P(Head | Fake) P(Fake) + P(Head | Real) P(Real)}$\n",
    "$               = \\frac{1 \\cdot (1/2)}{1 \\cdot (1/2) + (1/2) \\cdot (1/2)} = \\frac{2}{3} \\approx 0.667$"
   ],
   "cell_type": "markdown",
   "metadata": {}
  },
  {
   "source": [
    "# Simulation"
   ],
   "cell_type": "markdown",
   "metadata": {}
  },
  {
   "cell_type": "code",
   "execution_count": 4,
   "metadata": {},
   "outputs": [],
   "source": [
    "import random\n",
    "\n",
    "# 1 - one side head, 2 - both side head \n",
    "coins  = [1, 2]\n",
    "\n",
    "n_trial = 3_000_000\n",
    "n_head_case = 0\n",
    "n_fake = 0"
   ]
  },
  {
   "cell_type": "code",
   "execution_count": 5,
   "metadata": {},
   "outputs": [],
   "source": [
    "for _ in range(n_trial):\n",
    "    coin = random.choice(coins)\n",
    "    if coin == 2: \n",
    "        # fake coin case\n",
    "        n_fake += 1\n",
    "        n_head_case += 1\n",
    "    elif coin == 1:\n",
    "        # real coin case\n",
    "        # 1 - head, 0 - tail\n",
    "        head = random.randint(0, 1)\n",
    "        n_head_case += head"
   ]
  },
  {
   "cell_type": "code",
   "execution_count": 6,
   "metadata": {},
   "outputs": [
    {
     "output_type": "stream",
     "name": "stdout",
     "text": [
      "#fake case = 1499963, #head case 2250286\nP(fake case | head case) = 0.6665654943416082\n"
     ]
    }
   ],
   "source": [
    "print(f'#fake case = {n_fake}, #head case {n_head_case}')\n",
    "print(f'P(fake case | head case) = {n_fake/n_head_case}')"
   ]
  }
 ]
}
