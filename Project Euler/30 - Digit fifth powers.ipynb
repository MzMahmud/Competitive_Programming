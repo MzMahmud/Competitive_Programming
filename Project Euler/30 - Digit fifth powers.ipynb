{
 "nbformat": 4,
 "nbformat_minor": 2,
 "metadata": {
  "language_info": {
   "name": "python",
   "codemirror_mode": {
    "name": "ipython",
    "version": 3
   },
   "version": "3.7.6-final"
  },
  "orig_nbformat": 2,
  "file_extension": ".py",
  "mimetype": "text/x-python",
  "name": "python",
  "npconvert_exporter": "python",
  "pygments_lexer": "ipython3",
  "version": 3,
  "kernelspec": {
   "name": "python37664bittestconda61fa4abcd6fb4178b49663bc588af897",
   "display_name": "Python 3.7.6 64-bit ('Test': conda)"
  }
 },
 "cells": [
  {
   "cell_type": "markdown",
   "metadata": {},
   "source": [
    "# Digit fifth powers\n",
    "## [Problem Description](https://projecteuler.net/problem=30)\n",
    "\n",
    "## Solution\n",
    "### Reduce Search Space\n",
    "Let,$n$ be a $d$ digit number and $p$ be power of each digits. \n",
    "\n",
    "Maximum power sum of $d$ digits is $d\\cdot9^p$.\n",
    "\n",
    "So, if $n > d\\cdot9^p$ digit sum can not be equlal to $n$.\n",
    "\n",
    "As $n$ has $d$ digits, $n < 10^d$.So,\n",
    "\n",
    "$$ 10^d > n > d\\cdot9^p \\implies \\frac{10^d}{d} > 9^p \\implies \\log\\frac{10^d}{d} > \\log 9^p \\implies  d - \\log d > p\\log 9$$\n",
    "$$ \\therefore d - \\log d > p\\log 9$$\n",
    "\n",
    "Its enought to check unto $10^d$ where $d - \\log d > p\\log 9$. Because $10^d$ grows much faster than $d\\cdot9^p$ because $p$ is a fixed value. So $d\\cdot9^p$ can never cope with number of digits in $n$.\n",
    "\n",
    "In this problem, $p = 5$, and $6 - \\log 6 > 5\\log 9$.\n",
    "So, its enough to check unto $10^6.$"
   ]
  },
  {
   "cell_type": "code",
   "execution_count": 3,
   "metadata": {},
   "outputs": [],
   "source": [
    "def power_digit_sum(n, p):\n",
    "    \"\"\"\n",
    "    returns the sum pow(digit,p) \n",
    "    \"\"\"\n",
    "    n_str = str(n)\n",
    "    d_sum = 0\n",
    "    for d in n_str:\n",
    "        d = int(d)\n",
    "        d_sum += (d**p)\n",
    "    return d_sum\n",
    "\n",
    "    "
   ]
  },
  {
   "cell_type": "code",
   "execution_count": 6,
   "metadata": {},
   "outputs": [
    {
     "output_type": "stream",
     "name": "stdout",
     "text": "[4150, 4151, 54748, 92727, 93084, 194979]\nSum =  443839\n"
    }
   ],
   "source": [
    "LIMIT = int(1e6)\n",
    "\n",
    "nums = [n for n in range(10,LIMIT) if n == power_digit_sum(n,5)]\n",
    "\n",
    "print(nums)\n",
    "print(\"Sum = \",sum(nums))"
   ]
  },
  {
   "cell_type": "code",
   "execution_count": null,
   "metadata": {},
   "outputs": [],
   "source": []
  }
 ]
}