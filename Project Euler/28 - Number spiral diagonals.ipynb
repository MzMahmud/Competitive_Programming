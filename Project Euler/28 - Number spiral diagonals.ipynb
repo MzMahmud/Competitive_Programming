{
 "nbformat": 4,
 "nbformat_minor": 2,
 "metadata": {
  "language_info": {
   "name": "python",
   "codemirror_mode": {
    "name": "ipython",
    "version": 3
   },
   "version": "3.7.6-final"
  },
  "orig_nbformat": 2,
  "file_extension": ".py",
  "mimetype": "text/x-python",
  "name": "python",
  "npconvert_exporter": "python",
  "pygments_lexer": "ipython3",
  "version": 3,
  "kernelspec": {
   "name": "python37664bittestconda61fa4abcd6fb4178b49663bc588af897",
   "display_name": "Python 3.7.6 64-bit ('Test': conda)"
  }
 },
 "cells": [
  {
   "cell_type": "markdown",
   "metadata": {},
   "source": [
    "# Number spiral diagonals\n",
    "\n",
    "## [Problem Description](https://projecteuler.net/problem=28)\n",
    "\n",
    "## Solution\n",
    "\n",
    "<pre>\n",
    "43 44 45 46 47 48 49\n",
    "42 21 22 23 24 25 26\n",
    "41 20  7  8  9 10 27 \n",
    "40 19  6  1  2 11 28\n",
    "39 18  5  4  3 12 29\n",
    "38 17 16 15 14 13 30\n",
    "37 36 35 34 33 32 31\n",
    "</pre>\n",
    "$7\\times7$ grid\n",
    "\n",
    "### By pure pattern recognition\n",
    "| Direction      | Formula                                                       | $n-$th term        |\n",
    "|:--------------:|:--------------------------------------------------------------|:-------------------| \n",
    "|**$ \\nearrow $**| $ 3^2, 5^2, \\cdots$                                           | $(2n+1)^2$         |\n",
    "|**$ \\searrow $**| $ 1^2 + 2, 3^2 + 4, 5^2 + 6, \\cdots$                          | $(2n-1)^2 + 2n$    |\n",
    "|**$ \\swarrow $**| $ 1^2 + 2 \\cdot 2, 3^2 + 2 \\cdot 4, 5^2 + 2 \\cdot 6, \\cdots $ | $(2n-1)^2 + 2(2n)$ | \n",
    "|**$ \\nwarrow $**| $ 3^2 - 2, 5^2 - 4, 7^2 - 6, \\cdots$                          | $(2n+1)^2 - 2n$    |\n",
    "\n",
    "*and finally* **Center** $1$\n",
    "\n",
    "$1\\times1$ spiral $\\to$ $0$ diagonal terms and **Center** $1$\n",
    "\n",
    "$3\\times3$ spiral $\\to$ $1$ diagonal terms and **Center** $1$\n",
    "\n",
    "$5\\times5$ spiral $\\to$ $2$ diagonal terms and **Center** $1$\n",
    "\n",
    "$7\\times7$ spiral $\\to$ $3$ diagonal terms and **Center** $1$\n",
    "\n",
    "So, *$(2n+1)\\times(2n+1)$* would have $n$ diagonal terms with center 1 \n",
    "\n",
    "As the limit is low me being lazy coded with loop :yum:"
   ]
  },
  {
   "cell_type": "code",
   "execution_count": 42,
   "metadata": {},
   "outputs": [],
   "source": [
    "# LIMIT = 7 \n",
    "LIMIT = 1001\n",
    "\n",
    "# 2N+1=L,N = (L-1)/2\n",
    "N = (LIMIT - 1)//2"
   ]
  },
  {
   "cell_type": "code",
   "execution_count": 43,
   "metadata": {},
   "outputs": [],
   "source": [
    "NE = [(2*n + 1)**2 for n in range(1,N + 1)]\n",
    "#NE"
   ]
  },
  {
   "cell_type": "code",
   "execution_count": 44,
   "metadata": {},
   "outputs": [],
   "source": [
    "SE = [(2*n - 1)**2 + 2*n for n in range(1,N + 1)]\n",
    "#SE"
   ]
  },
  {
   "cell_type": "code",
   "execution_count": 45,
   "metadata": {},
   "outputs": [],
   "source": [
    "SW = [(2*n - 1)**2 + 4*n for n in range(1,N + 1)]\n",
    "#SW"
   ]
  },
  {
   "cell_type": "code",
   "execution_count": 46,
   "metadata": {},
   "outputs": [],
   "source": [
    "NW = [(2*n + 1)**2 - 2*n for n in range(1,N + 1)]\n",
    "#NW"
   ]
  },
  {
   "cell_type": "code",
   "execution_count": 47,
   "metadata": {},
   "outputs": [
    {
     "output_type": "execute_result",
     "data": {
      "text/plain": "669171001"
     },
     "metadata": {},
     "execution_count": 47
    }
   ],
   "source": [
    "diagonal_sum = sum(NE) + sum(SE) + sum(SW) + sum(NW) + 1\n",
    "diagonal_sum"
   ]
  },
  {
   "cell_type": "code",
   "execution_count": null,
   "metadata": {},
   "outputs": [],
   "source": []
  }
 ]
}