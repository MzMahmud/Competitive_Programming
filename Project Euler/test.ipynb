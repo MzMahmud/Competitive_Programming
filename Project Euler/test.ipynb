{
 "nbformat": 4,
 "nbformat_minor": 2,
 "metadata": {
  "language_info": {
   "name": "python",
   "codemirror_mode": {
    "name": "ipython",
    "version": 3
   },
   "version": "3.7.4-final"
  },
  "orig_nbformat": 2,
  "file_extension": ".py",
  "mimetype": "text/x-python",
  "name": "python",
  "npconvert_exporter": "python",
  "pygments_lexer": "ipython3",
  "version": 3,
  "kernelspec": {
   "name": "python37664bittestconda61fa4abcd6fb4178b49663bc588af897",
   "display_name": "Python 3.7.6 64-bit ('Test': conda)"
  }
 },
 "cells": [
  {
   "cell_type": "code",
   "execution_count": 1,
   "metadata": {},
   "outputs": [],
   "source": [
    "def get_digit_count(n) -> list:\n",
    "    digit_count = [0 for _ in range(10)]\n",
    "    for d in str(n):\n",
    "        digit_count[int(d)] += 1\n",
    "    return digit_count\n",
    "\n",
    "\n",
    "def is_pandigital(n):\n",
    "    digit_count = get_digit_count(n)\n",
    "    for i in range(1, 10):\n",
    "        if digit_count[i] != 1:\n",
    "            return False\n",
    "\n",
    "    return True\n",
    "\n",
    "\n",
    "def is_valid(n: int) -> bool:\n",
    "    \"\"\"\n",
    "    n = d1....d10\n",
    "    d2d3d4=406 is divisible by 2\n",
    "    d3d4d5=063 is divisible by 3\n",
    "    d4d5d6=635 is divisible by 5\n",
    "    d5d6d7=357 is divisible by 7\n",
    "    d6d7d8=572 is divisible by 11\n",
    "    d7d8d9=728 is divisible by 13\n",
    "    d8d9d10=289 is divisible by 17\n",
    "    \"\"\"\n",
    "    d = \"+\" + str(n)  # + added to make 1 basd index :3\n",
    "    p = [2, 3, 5, 7, 11, 13, 17]\n",
    "\n",
    "    for i in range(len(p)):\n",
    "        num = int(d[2 + i: 2 + i + 3])\n",
    "        if num % p[i] != 0:\n",
    "            return False\n",
    "\n",
    "    return True\n",
    ""
   ]
  },
  {
   "cell_type": "code",
   "execution_count": 7,
   "metadata": {},
   "outputs": [
    {
     "output_type": "stream",
     "name": "stdout",
     "text": "5.83 µs ± 115 ns per loop (mean ± std. dev. of 7 runs, 100000 loops each)\n"
    }
   ],
   "source": [
    "%%timeit\n",
    "\n",
    "n = 1406357289\n",
    "\n",
    "if not is_pandigital(n):\n",
    "    pass\n",
    "\n",
    "# sum_valid = 0\n",
    "# if is_valid(n):\n",
    "#     sum_valid += n"
   ]
  },
  {
   "cell_type": "code",
   "execution_count": null,
   "metadata": {},
   "outputs": [],
   "source": []
  }
 ]
}