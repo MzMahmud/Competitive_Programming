{
 "nbformat": 4,
 "nbformat_minor": 2,
 "metadata": {
  "language_info": {
   "name": "python",
   "codemirror_mode": {
    "name": "ipython",
    "version": 3
   },
   "version": "3.7.6-final"
  },
  "orig_nbformat": 2,
  "file_extension": ".py",
  "mimetype": "text/x-python",
  "name": "python",
  "npconvert_exporter": "python",
  "pygments_lexer": "ipython3",
  "version": 3,
  "kernelspec": {
   "name": "python37664bittestconda61fa4abcd6fb4178b49663bc588af897",
   "display_name": "Python 3.7.6 64-bit ('Test': conda)"
  }
 },
 "cells": [
  {
   "cell_type": "markdown",
   "metadata": {},
   "source": [
    "# Digit fifth powers\n",
    "## [Problem Description](https://projecteuler.net/problem=25)\n",
    "\n",
    "## Solution\n",
    "$$F_n = \\frac{{\\varphi}^n_1 - {\\varphi}^n_2}{\\sqrt{5}} \\approx \\frac{{\\varphi}^n_1}{\\sqrt{5}}\\;[\\mathrm{for\\;large\\;}n]$$\n",
    "Where,\n",
    "$$\\varphi_1 = \\frac{1 + \\sqrt{5}}{2} \\;\\; \\mathrm{and}\\; \\varphi_1 = \\frac{1 - \\sqrt{5}}{2}$$\n",
    "\n",
    "Number of digits in $F_n$,\n",
    "$$\n",
    "\\# digits = \\left \\lfloor \\log_{10} F_n \\right\\rfloor + 1\n",
    "          \\approx \\left \\lfloor \\log_{10} \\frac{{\\varphi}^n_1}{\\sqrt{5}} \\right\\rfloor + 1\n",
    "          = \\left \\lfloor n \\cdot \\log_{10} \\varphi_1 - 0.5 \\log 5 \\right\\rfloor + 1\n",
    "$$"
   ],
   "execution_count": null,
   "outputs": []
  },
  {
   "cell_type": "code",
   "execution_count": 5,
   "metadata": {},
   "outputs": [
    {
     "output_type": "stream",
     "name": "stdout",
     "text": "4782\n"
    }
   ],
   "source": [
    "from math import log10,sqrt,floor\n",
    "\n",
    "phi = (1.0 + sqrt(5.0))/2.0\n",
    "\n",
    "for n in range(10000):\n",
    "    digit = floor(n*log10(phi) - .5*log10(5)) + 1\n",
    "    if digit >= 1000:\n",
    "        print(n)\n",
    "        break\n",
    ""
   ]
  }
 ]
}