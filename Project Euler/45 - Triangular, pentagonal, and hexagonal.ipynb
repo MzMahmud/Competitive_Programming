{
 "nbformat": 4,
 "nbformat_minor": 2,
 "metadata": {
  "language_info": {
   "name": "python",
   "codemirror_mode": {
    "name": "ipython",
    "version": 3
   },
   "version": "3.7.4-final"
  },
  "orig_nbformat": 2,
  "file_extension": ".py",
  "mimetype": "text/x-python",
  "name": "python",
  "npconvert_exporter": "python",
  "pygments_lexer": "ipython3",
  "version": 3,
  "kernelspec": {
   "name": "python37664bittestconda61fa4abcd6fb4178b49663bc588af897",
   "display_name": "Python 3.7.6 64-bit ('Test': conda)"
  }
 },
 "cells": [
  {
   "cell_type": "markdown",
   "metadata": {},
   "source": [
    "# Triangular, pentagonal, and hexagonal\n",
    "## [Problem Description](https://projecteuler.net/problem=45)\n",
    "\n",
    "## Solution\n",
    "Triangle\t \t$T(n) = \\frac{n(n+1)}{2}$\t\n",
    "\n",
    "Pentagonal\t \t$P(n) = \\frac{n(3n−1)}{2}$\t \n",
    "\n",
    "Hexagonal\t \t$H(n) = n(2n−1)$\n",
    "\n",
    "Notice,\n",
    "$$ T(2m-1) =  \\frac{(2m-1)(2m-1+1)}{2} = \\frac{(2m-1)(2m)}{2} = m(2m-1) = H(m)$$\n",
    "So, for every odd Triangle number we always get a Hexagonal number.\n",
    "\n",
    "Therefore to get if $H(j) = P(k)$,then $T(2j - 1) = H(j) = P(k)$."
   ]
  },
  {
   "cell_type": "code",
   "execution_count": 1,
   "metadata": {},
   "outputs": [],
   "source": [
    "from math import sqrt\n",
    "from mymath import is_square\n",
    "\n",
    "\n",
    "def is_pentagonal(n: int) -> bool:\n",
    "    D = 1 + 24*n\n",
    "    if not is_square(D):\n",
    "        return False\n",
    "    D = 1 + int(sqrt(D))\n",
    "    return D % 6 == 0\n",
    "\n",
    "\n",
    "def H(n): return n*(2*n - 1)"
   ]
  },
  {
   "cell_type": "code",
   "execution_count": 2,
   "metadata": {},
   "outputs": [
    {
     "output_type": "stream",
     "name": "stdout",
     "text": "1533776805\n"
    }
   ],
   "source": [
    "n = 144\n",
    "while n:\n",
    "    if is_pentagonal(H(n)):\n",
    "        print(H(n))\n",
    "        break\n",
    "    n += 1"
   ]
  }
 ]
}